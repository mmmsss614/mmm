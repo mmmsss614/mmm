{
  "nbformat": 4,
  "nbformat_minor": 0,
  "metadata": {
    "colab": {
      "name": "qqq.ipynb",
      "provenance": [],
      "collapsed_sections": [],
      "toc_visible": true,
      "authorship_tag": "ABX9TyOX9UavtqyguuSDV0v6iwd9",
      "include_colab_link": true
    },
    "kernelspec": {
      "name": "python3",
      "display_name": "Python 3"
    },
    "language_info": {
      "name": "python"
    }
  },
  "cells": [
    {
      "cell_type": "markdown",
      "metadata": {
        "id": "view-in-github",
        "colab_type": "text"
      },
      "source": [
        "<a href=\"https://colab.research.google.com/github/mmmsss614/mmm/blob/main/qqq.ipynb\" target=\"_parent\"><img src=\"https://colab.research.google.com/assets/colab-badge.svg\" alt=\"Open In Colab\"/></a>"
      ]
    },
    {
      "cell_type": "code",
      "metadata": {
        "colab": {
          "base_uri": "https://localhost:8080/"
        },
        "id": "hq1XQTZfFiS1",
        "outputId": "00092b16-173c-4243-d052-eb2b85853a58"
      },
      "source": [
        "!pip3 install Colabturtle\n",
        "from ColabTurtle.Turtle import *"
      ],
      "execution_count": 1,
      "outputs": [
        {
          "output_type": "stream",
          "name": "stdout",
          "text": [
            "Requirement already satisfied: Colabturtle in /usr/local/lib/python3.7/dist-packages (2.1.0)\n"
          ]
        }
      ]
    },
    {
      "cell_type": "code",
      "metadata": {
        "colab": {
          "base_uri": "https://localhost:8080/",
          "height": 520
        },
        "id": "D3taAJfcFvg1",
        "outputId": "f31f0733-f59f-4ce1-f978-81196d47af82"
      },
      "source": [
        "import numpy as np\n",
        "initializeTurtle()\n",
        "r=100\n",
        "for i in range(100):\n",
        "  angle = (2*np.pi)/100*i\n",
        "  x = r * np.cos(angle)\n",
        "  y = r * np.sin(angle)\n",
        "  goto(350+x,200+y)"
      ],
      "execution_count": 5,
      "outputs": [
        {
          "output_type": "display_data",
          "data": {
            "text/html": [
              "\n",
              "      <svg width=\"800\" height=\"500\">\n",
              "        <rect width=\"100%\" height=\"100%\" fill=\"black\"/>\n",
              "        <line x1=\"400\" y1=\"250\" x2=\"450.0\" y2=\"200.0\" stroke-linecap=\"round\" style=\"stroke:white;stroke-width:4\"/><line x1=\"450.0\" y1=\"200.0\" x2=\"449.803\" y2=\"206.279\" stroke-linecap=\"round\" style=\"stroke:white;stroke-width:4\"/><line x1=\"449.803\" y1=\"206.279\" x2=\"449.211\" y2=\"212.533\" stroke-linecap=\"round\" style=\"stroke:white;stroke-width:4\"/><line x1=\"449.211\" y1=\"212.533\" x2=\"448.229\" y2=\"218.738\" stroke-linecap=\"round\" style=\"stroke:white;stroke-width:4\"/><line x1=\"448.229\" y1=\"218.738\" x2=\"446.858\" y2=\"224.869\" stroke-linecap=\"round\" style=\"stroke:white;stroke-width:4\"/><line x1=\"446.858\" y1=\"224.869\" x2=\"445.106\" y2=\"230.902\" stroke-linecap=\"round\" style=\"stroke:white;stroke-width:4\"/><line x1=\"445.106\" y1=\"230.902\" x2=\"442.978\" y2=\"236.812\" stroke-linecap=\"round\" style=\"stroke:white;stroke-width:4\"/><line x1=\"442.978\" y1=\"236.812\" x2=\"440.483\" y2=\"242.578\" stroke-linecap=\"round\" style=\"stroke:white;stroke-width:4\"/><line x1=\"440.483\" y1=\"242.578\" x2=\"437.631\" y2=\"248.175\" stroke-linecap=\"round\" style=\"stroke:white;stroke-width:4\"/><line x1=\"437.631\" y1=\"248.175\" x2=\"434.433\" y2=\"253.583\" stroke-linecap=\"round\" style=\"stroke:white;stroke-width:4\"/><line x1=\"434.433\" y1=\"253.583\" x2=\"430.902\" y2=\"258.779\" stroke-linecap=\"round\" style=\"stroke:white;stroke-width:4\"/><line x1=\"430.902\" y1=\"258.779\" x2=\"427.051\" y2=\"263.742\" stroke-linecap=\"round\" style=\"stroke:white;stroke-width:4\"/><line x1=\"427.051\" y1=\"263.742\" x2=\"422.897\" y2=\"268.455\" stroke-linecap=\"round\" style=\"stroke:white;stroke-width:4\"/><line x1=\"422.897\" y1=\"268.455\" x2=\"418.455\" y2=\"272.897\" stroke-linecap=\"round\" style=\"stroke:white;stroke-width:4\"/><line x1=\"418.455\" y1=\"272.897\" x2=\"413.742\" y2=\"277.051\" stroke-linecap=\"round\" style=\"stroke:white;stroke-width:4\"/><line x1=\"413.742\" y1=\"277.051\" x2=\"408.779\" y2=\"280.902\" stroke-linecap=\"round\" style=\"stroke:white;stroke-width:4\"/><line x1=\"408.779\" y1=\"280.902\" x2=\"403.583\" y2=\"284.433\" stroke-linecap=\"round\" style=\"stroke:white;stroke-width:4\"/><line x1=\"403.583\" y1=\"284.433\" x2=\"398.175\" y2=\"287.631\" stroke-linecap=\"round\" style=\"stroke:white;stroke-width:4\"/><line x1=\"398.175\" y1=\"287.631\" x2=\"392.578\" y2=\"290.483\" stroke-linecap=\"round\" style=\"stroke:white;stroke-width:4\"/><line x1=\"392.578\" y1=\"290.483\" x2=\"386.812\" y2=\"292.978\" stroke-linecap=\"round\" style=\"stroke:white;stroke-width:4\"/><line x1=\"386.812\" y1=\"292.978\" x2=\"380.902\" y2=\"295.106\" stroke-linecap=\"round\" style=\"stroke:white;stroke-width:4\"/><line x1=\"380.902\" y1=\"295.106\" x2=\"374.869\" y2=\"296.858\" stroke-linecap=\"round\" style=\"stroke:white;stroke-width:4\"/><line x1=\"374.869\" y1=\"296.858\" x2=\"368.738\" y2=\"298.229\" stroke-linecap=\"round\" style=\"stroke:white;stroke-width:4\"/><line x1=\"368.738\" y1=\"298.229\" x2=\"362.533\" y2=\"299.211\" stroke-linecap=\"round\" style=\"stroke:white;stroke-width:4\"/><line x1=\"362.533\" y1=\"299.211\" x2=\"356.279\" y2=\"299.803\" stroke-linecap=\"round\" style=\"stroke:white;stroke-width:4\"/><line x1=\"356.279\" y1=\"299.803\" x2=\"350.0\" y2=\"300.0\" stroke-linecap=\"round\" style=\"stroke:white;stroke-width:4\"/><line x1=\"350.0\" y1=\"300.0\" x2=\"343.721\" y2=\"299.803\" stroke-linecap=\"round\" style=\"stroke:white;stroke-width:4\"/><line x1=\"343.721\" y1=\"299.803\" x2=\"337.467\" y2=\"299.211\" stroke-linecap=\"round\" style=\"stroke:white;stroke-width:4\"/><line x1=\"337.467\" y1=\"299.211\" x2=\"331.262\" y2=\"298.229\" stroke-linecap=\"round\" style=\"stroke:white;stroke-width:4\"/><line x1=\"331.262\" y1=\"298.229\" x2=\"325.131\" y2=\"296.858\" stroke-linecap=\"round\" style=\"stroke:white;stroke-width:4\"/><line x1=\"325.131\" y1=\"296.858\" x2=\"319.098\" y2=\"295.106\" stroke-linecap=\"round\" style=\"stroke:white;stroke-width:4\"/><line x1=\"319.098\" y1=\"295.106\" x2=\"313.188\" y2=\"292.978\" stroke-linecap=\"round\" style=\"stroke:white;stroke-width:4\"/><line x1=\"313.188\" y1=\"292.978\" x2=\"307.422\" y2=\"290.483\" stroke-linecap=\"round\" style=\"stroke:white;stroke-width:4\"/><line x1=\"307.422\" y1=\"290.483\" x2=\"301.825\" y2=\"287.631\" stroke-linecap=\"round\" style=\"stroke:white;stroke-width:4\"/><line x1=\"301.825\" y1=\"287.631\" x2=\"296.417\" y2=\"284.433\" stroke-linecap=\"round\" style=\"stroke:white;stroke-width:4\"/><line x1=\"296.417\" y1=\"284.433\" x2=\"291.221\" y2=\"280.902\" stroke-linecap=\"round\" style=\"stroke:white;stroke-width:4\"/><line x1=\"291.221\" y1=\"280.902\" x2=\"286.258\" y2=\"277.051\" stroke-linecap=\"round\" style=\"stroke:white;stroke-width:4\"/><line x1=\"286.258\" y1=\"277.051\" x2=\"281.545\" y2=\"272.897\" stroke-linecap=\"round\" style=\"stroke:white;stroke-width:4\"/><line x1=\"281.545\" y1=\"272.897\" x2=\"277.103\" y2=\"268.455\" stroke-linecap=\"round\" style=\"stroke:white;stroke-width:4\"/><line x1=\"277.103\" y1=\"268.455\" x2=\"272.949\" y2=\"263.742\" stroke-linecap=\"round\" style=\"stroke:white;stroke-width:4\"/><line x1=\"272.949\" y1=\"263.742\" x2=\"269.098\" y2=\"258.779\" stroke-linecap=\"round\" style=\"stroke:white;stroke-width:4\"/><line x1=\"269.098\" y1=\"258.779\" x2=\"265.567\" y2=\"253.583\" stroke-linecap=\"round\" style=\"stroke:white;stroke-width:4\"/><line x1=\"265.567\" y1=\"253.583\" x2=\"262.369\" y2=\"248.175\" stroke-linecap=\"round\" style=\"stroke:white;stroke-width:4\"/><line x1=\"262.369\" y1=\"248.175\" x2=\"259.517\" y2=\"242.578\" stroke-linecap=\"round\" style=\"stroke:white;stroke-width:4\"/><line x1=\"259.517\" y1=\"242.578\" x2=\"257.022\" y2=\"236.812\" stroke-linecap=\"round\" style=\"stroke:white;stroke-width:4\"/><line x1=\"257.022\" y1=\"236.812\" x2=\"254.894\" y2=\"230.902\" stroke-linecap=\"round\" style=\"stroke:white;stroke-width:4\"/><line x1=\"254.894\" y1=\"230.902\" x2=\"253.142\" y2=\"224.869\" stroke-linecap=\"round\" style=\"stroke:white;stroke-width:4\"/><line x1=\"253.142\" y1=\"224.869\" x2=\"251.771\" y2=\"218.738\" stroke-linecap=\"round\" style=\"stroke:white;stroke-width:4\"/><line x1=\"251.771\" y1=\"218.738\" x2=\"250.789\" y2=\"212.533\" stroke-linecap=\"round\" style=\"stroke:white;stroke-width:4\"/><line x1=\"250.789\" y1=\"212.533\" x2=\"250.197\" y2=\"206.279\" stroke-linecap=\"round\" style=\"stroke:white;stroke-width:4\"/><line x1=\"250.197\" y1=\"206.279\" x2=\"250.0\" y2=\"200.0\" stroke-linecap=\"round\" style=\"stroke:white;stroke-width:4\"/><line x1=\"250.0\" y1=\"200.0\" x2=\"250.197\" y2=\"193.721\" stroke-linecap=\"round\" style=\"stroke:white;stroke-width:4\"/><line x1=\"250.197\" y1=\"193.721\" x2=\"250.789\" y2=\"187.467\" stroke-linecap=\"round\" style=\"stroke:white;stroke-width:4\"/><line x1=\"250.789\" y1=\"187.467\" x2=\"251.771\" y2=\"181.262\" stroke-linecap=\"round\" style=\"stroke:white;stroke-width:4\"/><line x1=\"251.771\" y1=\"181.262\" x2=\"253.142\" y2=\"175.131\" stroke-linecap=\"round\" style=\"stroke:white;stroke-width:4\"/><line x1=\"253.142\" y1=\"175.131\" x2=\"254.894\" y2=\"169.098\" stroke-linecap=\"round\" style=\"stroke:white;stroke-width:4\"/><line x1=\"254.894\" y1=\"169.098\" x2=\"257.022\" y2=\"163.188\" stroke-linecap=\"round\" style=\"stroke:white;stroke-width:4\"/><line x1=\"257.022\" y1=\"163.188\" x2=\"259.517\" y2=\"157.422\" stroke-linecap=\"round\" style=\"stroke:white;stroke-width:4\"/><line x1=\"259.517\" y1=\"157.422\" x2=\"262.369\" y2=\"151.825\" stroke-linecap=\"round\" style=\"stroke:white;stroke-width:4\"/><line x1=\"262.369\" y1=\"151.825\" x2=\"265.567\" y2=\"146.417\" stroke-linecap=\"round\" style=\"stroke:white;stroke-width:4\"/><line x1=\"265.567\" y1=\"146.417\" x2=\"269.098\" y2=\"141.221\" stroke-linecap=\"round\" style=\"stroke:white;stroke-width:4\"/><line x1=\"269.098\" y1=\"141.221\" x2=\"272.949\" y2=\"136.258\" stroke-linecap=\"round\" style=\"stroke:white;stroke-width:4\"/><line x1=\"272.949\" y1=\"136.258\" x2=\"277.103\" y2=\"131.545\" stroke-linecap=\"round\" style=\"stroke:white;stroke-width:4\"/><line x1=\"277.103\" y1=\"131.545\" x2=\"281.545\" y2=\"127.103\" stroke-linecap=\"round\" style=\"stroke:white;stroke-width:4\"/><line x1=\"281.545\" y1=\"127.103\" x2=\"286.258\" y2=\"122.949\" stroke-linecap=\"round\" style=\"stroke:white;stroke-width:4\"/><line x1=\"286.258\" y1=\"122.949\" x2=\"291.221\" y2=\"119.098\" stroke-linecap=\"round\" style=\"stroke:white;stroke-width:4\"/><line x1=\"291.221\" y1=\"119.098\" x2=\"296.417\" y2=\"115.567\" stroke-linecap=\"round\" style=\"stroke:white;stroke-width:4\"/><line x1=\"296.417\" y1=\"115.567\" x2=\"301.825\" y2=\"112.369\" stroke-linecap=\"round\" style=\"stroke:white;stroke-width:4\"/><line x1=\"301.825\" y1=\"112.369\" x2=\"307.422\" y2=\"109.517\" stroke-linecap=\"round\" style=\"stroke:white;stroke-width:4\"/><line x1=\"307.422\" y1=\"109.517\" x2=\"313.188\" y2=\"107.022\" stroke-linecap=\"round\" style=\"stroke:white;stroke-width:4\"/><line x1=\"313.188\" y1=\"107.022\" x2=\"319.098\" y2=\"104.894\" stroke-linecap=\"round\" style=\"stroke:white;stroke-width:4\"/><line x1=\"319.098\" y1=\"104.894\" x2=\"325.131\" y2=\"103.142\" stroke-linecap=\"round\" style=\"stroke:white;stroke-width:4\"/><line x1=\"325.131\" y1=\"103.142\" x2=\"331.262\" y2=\"101.771\" stroke-linecap=\"round\" style=\"stroke:white;stroke-width:4\"/><line x1=\"331.262\" y1=\"101.771\" x2=\"337.467\" y2=\"100.789\" stroke-linecap=\"round\" style=\"stroke:white;stroke-width:4\"/><line x1=\"337.467\" y1=\"100.789\" x2=\"343.721\" y2=\"100.197\" stroke-linecap=\"round\" style=\"stroke:white;stroke-width:4\"/><line x1=\"343.721\" y1=\"100.197\" x2=\"350.0\" y2=\"100.0\" stroke-linecap=\"round\" style=\"stroke:white;stroke-width:4\"/><line x1=\"350.0\" y1=\"100.0\" x2=\"356.279\" y2=\"100.197\" stroke-linecap=\"round\" style=\"stroke:white;stroke-width:4\"/><line x1=\"356.279\" y1=\"100.197\" x2=\"362.533\" y2=\"100.789\" stroke-linecap=\"round\" style=\"stroke:white;stroke-width:4\"/><line x1=\"362.533\" y1=\"100.789\" x2=\"368.738\" y2=\"101.771\" stroke-linecap=\"round\" style=\"stroke:white;stroke-width:4\"/><line x1=\"368.738\" y1=\"101.771\" x2=\"374.869\" y2=\"103.142\" stroke-linecap=\"round\" style=\"stroke:white;stroke-width:4\"/><line x1=\"374.869\" y1=\"103.142\" x2=\"380.902\" y2=\"104.894\" stroke-linecap=\"round\" style=\"stroke:white;stroke-width:4\"/><line x1=\"380.902\" y1=\"104.894\" x2=\"386.812\" y2=\"107.022\" stroke-linecap=\"round\" style=\"stroke:white;stroke-width:4\"/><line x1=\"386.812\" y1=\"107.022\" x2=\"392.578\" y2=\"109.517\" stroke-linecap=\"round\" style=\"stroke:white;stroke-width:4\"/><line x1=\"392.578\" y1=\"109.517\" x2=\"398.175\" y2=\"112.369\" stroke-linecap=\"round\" style=\"stroke:white;stroke-width:4\"/><line x1=\"398.175\" y1=\"112.369\" x2=\"403.583\" y2=\"115.567\" stroke-linecap=\"round\" style=\"stroke:white;stroke-width:4\"/><line x1=\"403.583\" y1=\"115.567\" x2=\"408.779\" y2=\"119.098\" stroke-linecap=\"round\" style=\"stroke:white;stroke-width:4\"/><line x1=\"408.779\" y1=\"119.098\" x2=\"413.742\" y2=\"122.949\" stroke-linecap=\"round\" style=\"stroke:white;stroke-width:4\"/><line x1=\"413.742\" y1=\"122.949\" x2=\"418.455\" y2=\"127.103\" stroke-linecap=\"round\" style=\"stroke:white;stroke-width:4\"/><line x1=\"418.455\" y1=\"127.103\" x2=\"422.897\" y2=\"131.545\" stroke-linecap=\"round\" style=\"stroke:white;stroke-width:4\"/><line x1=\"422.897\" y1=\"131.545\" x2=\"427.051\" y2=\"136.258\" stroke-linecap=\"round\" style=\"stroke:white;stroke-width:4\"/><line x1=\"427.051\" y1=\"136.258\" x2=\"430.902\" y2=\"141.221\" stroke-linecap=\"round\" style=\"stroke:white;stroke-width:4\"/><line x1=\"430.902\" y1=\"141.221\" x2=\"434.433\" y2=\"146.417\" stroke-linecap=\"round\" style=\"stroke:white;stroke-width:4\"/><line x1=\"434.433\" y1=\"146.417\" x2=\"437.631\" y2=\"151.825\" stroke-linecap=\"round\" style=\"stroke:white;stroke-width:4\"/><line x1=\"437.631\" y1=\"151.825\" x2=\"440.483\" y2=\"157.422\" stroke-linecap=\"round\" style=\"stroke:white;stroke-width:4\"/><line x1=\"440.483\" y1=\"157.422\" x2=\"442.978\" y2=\"163.188\" stroke-linecap=\"round\" style=\"stroke:white;stroke-width:4\"/><line x1=\"442.978\" y1=\"163.188\" x2=\"445.106\" y2=\"169.098\" stroke-linecap=\"round\" style=\"stroke:white;stroke-width:4\"/><line x1=\"445.106\" y1=\"169.098\" x2=\"446.858\" y2=\"175.131\" stroke-linecap=\"round\" style=\"stroke:white;stroke-width:4\"/><line x1=\"446.858\" y1=\"175.131\" x2=\"448.229\" y2=\"181.262\" stroke-linecap=\"round\" style=\"stroke:white;stroke-width:4\"/><line x1=\"448.229\" y1=\"181.262\" x2=\"449.211\" y2=\"187.467\" stroke-linecap=\"round\" style=\"stroke:white;stroke-width:4\"/><line x1=\"449.211\" y1=\"187.467\" x2=\"449.803\" y2=\"193.721\" stroke-linecap=\"round\" style=\"stroke:white;stroke-width:4\"/>\n",
              "        <g visibility=visible transform=\"rotate(360,449.803,193.721) translate(431.803, 175.721)\">\n",
              "<path style=\" stroke:none;fill-rule:evenodd;fill:white;fill-opacity:1;\" d=\"M 18.214844 0.632812 C 16.109375 1.800781 15.011719 4.074219 15.074219 7.132812 L 15.085938 7.652344 L 14.785156 7.496094 C 13.476562 6.824219 11.957031 6.671875 10.40625 7.066406 C 8.46875 7.550781 6.515625 9.15625 4.394531 11.992188 C 3.0625 13.777344 2.679688 14.636719 3.042969 15.027344 L 3.15625 15.152344 L 3.519531 15.152344 C 4.238281 15.152344 4.828125 14.886719 8.1875 13.039062 C 9.386719 12.378906 10.371094 11.839844 10.378906 11.839844 C 10.386719 11.839844 10.355469 11.929688 10.304688 12.035156 C 9.832031 13.09375 9.257812 14.820312 8.96875 16.078125 C 7.914062 20.652344 8.617188 24.53125 11.070312 27.660156 C 11.351562 28.015625 11.363281 27.914062 10.972656 28.382812 C 8.925781 30.84375 7.945312 33.28125 8.238281 35.1875 C 8.289062 35.527344 8.28125 35.523438 8.917969 35.523438 C 10.941406 35.523438 13.074219 34.207031 15.136719 31.6875 C 15.359375 31.417969 15.328125 31.425781 15.5625 31.574219 C 16.292969 32.042969 18.023438 32.964844 18.175781 32.964844 C 18.335938 32.964844 19.941406 32.210938 20.828125 31.71875 C 20.996094 31.625 21.136719 31.554688 21.136719 31.558594 C 21.203125 31.664062 21.898438 32.414062 22.222656 32.730469 C 23.835938 34.300781 25.5625 35.132812 27.582031 35.300781 C 27.90625 35.328125 27.9375 35.308594 28.007812 34.984375 C 28.382812 33.242188 27.625 30.925781 25.863281 28.425781 L 25.542969 27.96875 L 25.699219 27.785156 C 28.945312 23.960938 29.132812 18.699219 26.257812 11.96875 L 26.207031 11.84375 L 27.945312 12.703125 C 31.53125 14.476562 32.316406 14.800781 33.03125 14.800781 C 33.976562 14.800781 33.78125 13.9375 32.472656 12.292969 C 28.519531 7.355469 25.394531 5.925781 21.921875 7.472656 L 21.558594 7.636719 L 21.578125 7.542969 C 21.699219 6.992188 21.761719 5.742188 21.699219 5.164062 C 21.496094 3.296875 20.664062 1.964844 19.003906 0.855469 C 18.480469 0.503906 18.457031 0.5 18.214844 0.632812\"/>\n",
              "</g>\n",
              "      </svg>\n",
              "    "
            ],
            "text/plain": [
              "<IPython.core.display.HTML object>"
            ]
          },
          "metadata": {}
        }
      ]
    },
    {
      "cell_type": "code",
      "metadata": {
        "colab": {
          "base_uri": "https://localhost:8080/"
        },
        "id": "E0l5zeaGIBoN",
        "outputId": "7ce32e3f-7603-4dd0-aa5b-6dd44c249a30"
      },
      "source": [
        "dir()\n"
      ],
      "execution_count": 8,
      "outputs": [
        {
          "output_type": "execute_result",
          "data": {
            "text/plain": [
              "['DEFAULT_BACKGROUND_COLOR',\n",
              " 'DEFAULT_IS_PEN_DOWN',\n",
              " 'DEFAULT_PEN_COLOR',\n",
              " 'DEFAULT_PEN_WIDTH',\n",
              " 'DEFAULT_SPEED',\n",
              " 'DEFAULT_SVG_LINES_STRING',\n",
              " 'DEFAULT_TURTLE_DEGREE',\n",
              " 'DEFAULT_TURTLE_SHAPE',\n",
              " 'DEFAULT_TURTLE_VISIBILITY',\n",
              " 'DEFAULT_WINDOW_SIZE',\n",
              " 'HTML',\n",
              " 'In',\n",
              " 'Out',\n",
              " 'SPEED_TO_SEC_MAP',\n",
              " 'SVG_TEMPLATE',\n",
              " 'TURTLE_CIRCLE_SVG_TEMPLATE',\n",
              " 'TURTLE_TURTLE_SVG_TEMPLATE',\n",
              " 'VALID_COLORS',\n",
              " 'VALID_COLORS_SET',\n",
              " 'VALID_TURTLE_SHAPES',\n",
              " '_',\n",
              " '__',\n",
              " '___',\n",
              " '__builtin__',\n",
              " '__builtins__',\n",
              " '__doc__',\n",
              " '__loader__',\n",
              " '__name__',\n",
              " '__package__',\n",
              " '__spec__',\n",
              " '_dh',\n",
              " '_exit_code',\n",
              " '_i',\n",
              " '_i1',\n",
              " '_i2',\n",
              " '_i3',\n",
              " '_i4',\n",
              " '_i5',\n",
              " '_i6',\n",
              " '_i7',\n",
              " '_i8',\n",
              " '_ih',\n",
              " '_ii',\n",
              " '_iii',\n",
              " '_oh',\n",
              " '_sh',\n",
              " 'angle',\n",
              " 'back',\n",
              " 'background_color',\n",
              " 'backward',\n",
              " 'bgcolor',\n",
              " 'bk',\n",
              " 'clear',\n",
              " 'color',\n",
              " 'display',\n",
              " 'distance',\n",
              " 'down',\n",
              " 'drawing_window',\n",
              " 'exit',\n",
              " 'face',\n",
              " 'fd',\n",
              " 'forward',\n",
              " 'get_ipython',\n",
              " 'getheading',\n",
              " 'getx',\n",
              " 'gety',\n",
              " 'goto',\n",
              " 'heading',\n",
              " 'hideturtle',\n",
              " 'home',\n",
              " 'ht',\n",
              " 'i',\n",
              " 'initializeTurtle',\n",
              " 'is_pen_down',\n",
              " 'is_turtle_visible',\n",
              " 'isdown',\n",
              " 'isvisible',\n",
              " 'left',\n",
              " 'lt',\n",
              " 'math',\n",
              " 'np',\n",
              " 'pd',\n",
              " 'pen_color',\n",
              " 'pen_width',\n",
              " 'pencolor',\n",
              " 'pendown',\n",
              " 'pensize',\n",
              " 'penup',\n",
              " 'pos',\n",
              " 'position',\n",
              " 'pu',\n",
              " 'quit',\n",
              " 'r',\n",
              " 're',\n",
              " 'right',\n",
              " 'rt',\n",
              " 'seth',\n",
              " 'setheading',\n",
              " 'setpos',\n",
              " 'setposition',\n",
              " 'setx',\n",
              " 'sety',\n",
              " 'shape',\n",
              " 'showturtle',\n",
              " 'speed',\n",
              " 'st',\n",
              " 'svg_lines_string',\n",
              " 'time',\n",
              " 'turtle_degree',\n",
              " 'turtle_pos',\n",
              " 'turtle_shape',\n",
              " 'turtle_speed',\n",
              " 'up',\n",
              " 'width',\n",
              " 'window_height',\n",
              " 'window_size',\n",
              " 'window_width',\n",
              " 'write',\n",
              " 'x',\n",
              " 'xcor',\n",
              " 'y',\n",
              " 'ycor']"
            ]
          },
          "metadata": {},
          "execution_count": 8
        }
      ]
    },
    {
      "cell_type": "code",
      "metadata": {
        "colab": {
          "base_uri": "https://localhost:8080/",
          "height": 520
        },
        "id": "PthWLxbvJjtd",
        "outputId": "6ec38975-d351-4eb8-8089-8a314abed43a"
      },
      "source": [
        "initializeTurtle()\n",
        "for i in range(0,3):\n",
        "  fd(100)\n",
        "  lt(120)"
      ],
      "execution_count": 11,
      "outputs": [
        {
          "output_type": "display_data",
          "data": {
            "text/html": [
              "\n",
              "      <svg width=\"800\" height=\"500\">\n",
              "        <rect width=\"100%\" height=\"100%\" fill=\"black\"/>\n",
              "        <line x1=\"400\" y1=\"250\" x2=\"400.0\" y2=\"150.0\" stroke-linecap=\"round\" style=\"stroke:white;stroke-width:4\"/><line x1=\"400.0\" y1=\"150.0\" x2=\"313.397\" y2=\"200.0\" stroke-linecap=\"round\" style=\"stroke:white;stroke-width:4\"/><line x1=\"313.397\" y1=\"200.0\" x2=\"400.0\" y2=\"250.0\" stroke-linecap=\"round\" style=\"stroke:white;stroke-width:4\"/>\n",
              "        <g visibility=visible transform=\"rotate(360,400.0,250.0) translate(382.0, 232.0)\">\n",
              "<path style=\" stroke:none;fill-rule:evenodd;fill:white;fill-opacity:1;\" d=\"M 18.214844 0.632812 C 16.109375 1.800781 15.011719 4.074219 15.074219 7.132812 L 15.085938 7.652344 L 14.785156 7.496094 C 13.476562 6.824219 11.957031 6.671875 10.40625 7.066406 C 8.46875 7.550781 6.515625 9.15625 4.394531 11.992188 C 3.0625 13.777344 2.679688 14.636719 3.042969 15.027344 L 3.15625 15.152344 L 3.519531 15.152344 C 4.238281 15.152344 4.828125 14.886719 8.1875 13.039062 C 9.386719 12.378906 10.371094 11.839844 10.378906 11.839844 C 10.386719 11.839844 10.355469 11.929688 10.304688 12.035156 C 9.832031 13.09375 9.257812 14.820312 8.96875 16.078125 C 7.914062 20.652344 8.617188 24.53125 11.070312 27.660156 C 11.351562 28.015625 11.363281 27.914062 10.972656 28.382812 C 8.925781 30.84375 7.945312 33.28125 8.238281 35.1875 C 8.289062 35.527344 8.28125 35.523438 8.917969 35.523438 C 10.941406 35.523438 13.074219 34.207031 15.136719 31.6875 C 15.359375 31.417969 15.328125 31.425781 15.5625 31.574219 C 16.292969 32.042969 18.023438 32.964844 18.175781 32.964844 C 18.335938 32.964844 19.941406 32.210938 20.828125 31.71875 C 20.996094 31.625 21.136719 31.554688 21.136719 31.558594 C 21.203125 31.664062 21.898438 32.414062 22.222656 32.730469 C 23.835938 34.300781 25.5625 35.132812 27.582031 35.300781 C 27.90625 35.328125 27.9375 35.308594 28.007812 34.984375 C 28.382812 33.242188 27.625 30.925781 25.863281 28.425781 L 25.542969 27.96875 L 25.699219 27.785156 C 28.945312 23.960938 29.132812 18.699219 26.257812 11.96875 L 26.207031 11.84375 L 27.945312 12.703125 C 31.53125 14.476562 32.316406 14.800781 33.03125 14.800781 C 33.976562 14.800781 33.78125 13.9375 32.472656 12.292969 C 28.519531 7.355469 25.394531 5.925781 21.921875 7.472656 L 21.558594 7.636719 L 21.578125 7.542969 C 21.699219 6.992188 21.761719 5.742188 21.699219 5.164062 C 21.496094 3.296875 20.664062 1.964844 19.003906 0.855469 C 18.480469 0.503906 18.457031 0.5 18.214844 0.632812\"/>\n",
              "</g>\n",
              "      </svg>\n",
              "    "
            ],
            "text/plain": [
              "<IPython.core.display.HTML object>"
            ]
          },
          "metadata": {}
        }
      ]
    },
    {
      "cell_type": "code",
      "metadata": {
        "colab": {
          "base_uri": "https://localhost:8080/",
          "height": 520
        },
        "id": "w7-3PJRyKVer",
        "outputId": "a748d34c-d8df-4ee5-954a-ecd1d9418cbe"
      },
      "source": [
        "initializeTurtle()\n",
        "for i in range(0,5):\n",
        "  fd(50)\n",
        "  rt(120)\n",
        "  fd(50)\n",
        "  lt(60)\n",
        "  "
      ],
      "execution_count": 17,
      "outputs": [
        {
          "output_type": "display_data",
          "data": {
            "text/html": [
              "\n",
              "      <svg width=\"800\" height=\"500\">\n",
              "        <rect width=\"100%\" height=\"100%\" fill=\"black\"/>\n",
              "        <line x1=\"400\" y1=\"250\" x2=\"400.0\" y2=\"200.0\" stroke-linecap=\"round\" style=\"stroke:white;stroke-width:4\"/><line x1=\"400.0\" y1=\"200.0\" x2=\"443.301\" y2=\"225.0\" stroke-linecap=\"round\" style=\"stroke:white;stroke-width:4\"/><line x1=\"443.301\" y1=\"225.0\" x2=\"486.602\" y2=\"200.0\" stroke-linecap=\"round\" style=\"stroke:white;stroke-width:4\"/><line x1=\"486.602\" y1=\"200.0\" x2=\"486.602\" y2=\"250.0\" stroke-linecap=\"round\" style=\"stroke:white;stroke-width:4\"/><line x1=\"486.602\" y1=\"250.0\" x2=\"529.903\" y2=\"275.0\" stroke-linecap=\"round\" style=\"stroke:white;stroke-width:4\"/><line x1=\"529.903\" y1=\"275.0\" x2=\"486.602\" y2=\"300.0\" stroke-linecap=\"round\" style=\"stroke:white;stroke-width:4\"/><line x1=\"486.602\" y1=\"300.0\" x2=\"486.602\" y2=\"350.0\" stroke-linecap=\"round\" style=\"stroke:white;stroke-width:4\"/><line x1=\"486.602\" y1=\"350.0\" x2=\"443.301\" y2=\"325.0\" stroke-linecap=\"round\" style=\"stroke:white;stroke-width:4\"/><line x1=\"443.301\" y1=\"325.0\" x2=\"400.0\" y2=\"350.0\" stroke-linecap=\"round\" style=\"stroke:white;stroke-width:4\"/><line x1=\"400.0\" y1=\"350.0\" x2=\"400.0\" y2=\"300.0\" stroke-linecap=\"round\" style=\"stroke:white;stroke-width:4\"/><line x1=\"400.0\" y1=\"300.0\" x2=\"356.699\" y2=\"275.0\" stroke-linecap=\"round\" style=\"stroke:white;stroke-width:4\"/><line x1=\"356.699\" y1=\"275.0\" x2=\"400.0\" y2=\"250.0\" stroke-linecap=\"round\" style=\"stroke:white;stroke-width:4\"/>\n",
              "        <g visibility=visible transform=\"rotate(360,400.0,250.0) translate(382.0, 232.0)\">\n",
              "<path style=\" stroke:none;fill-rule:evenodd;fill:white;fill-opacity:1;\" d=\"M 18.214844 0.632812 C 16.109375 1.800781 15.011719 4.074219 15.074219 7.132812 L 15.085938 7.652344 L 14.785156 7.496094 C 13.476562 6.824219 11.957031 6.671875 10.40625 7.066406 C 8.46875 7.550781 6.515625 9.15625 4.394531 11.992188 C 3.0625 13.777344 2.679688 14.636719 3.042969 15.027344 L 3.15625 15.152344 L 3.519531 15.152344 C 4.238281 15.152344 4.828125 14.886719 8.1875 13.039062 C 9.386719 12.378906 10.371094 11.839844 10.378906 11.839844 C 10.386719 11.839844 10.355469 11.929688 10.304688 12.035156 C 9.832031 13.09375 9.257812 14.820312 8.96875 16.078125 C 7.914062 20.652344 8.617188 24.53125 11.070312 27.660156 C 11.351562 28.015625 11.363281 27.914062 10.972656 28.382812 C 8.925781 30.84375 7.945312 33.28125 8.238281 35.1875 C 8.289062 35.527344 8.28125 35.523438 8.917969 35.523438 C 10.941406 35.523438 13.074219 34.207031 15.136719 31.6875 C 15.359375 31.417969 15.328125 31.425781 15.5625 31.574219 C 16.292969 32.042969 18.023438 32.964844 18.175781 32.964844 C 18.335938 32.964844 19.941406 32.210938 20.828125 31.71875 C 20.996094 31.625 21.136719 31.554688 21.136719 31.558594 C 21.203125 31.664062 21.898438 32.414062 22.222656 32.730469 C 23.835938 34.300781 25.5625 35.132812 27.582031 35.300781 C 27.90625 35.328125 27.9375 35.308594 28.007812 34.984375 C 28.382812 33.242188 27.625 30.925781 25.863281 28.425781 L 25.542969 27.96875 L 25.699219 27.785156 C 28.945312 23.960938 29.132812 18.699219 26.257812 11.96875 L 26.207031 11.84375 L 27.945312 12.703125 C 31.53125 14.476562 32.316406 14.800781 33.03125 14.800781 C 33.976562 14.800781 33.78125 13.9375 32.472656 12.292969 C 28.519531 7.355469 25.394531 5.925781 21.921875 7.472656 L 21.558594 7.636719 L 21.578125 7.542969 C 21.699219 6.992188 21.761719 5.742188 21.699219 5.164062 C 21.496094 3.296875 20.664062 1.964844 19.003906 0.855469 C 18.480469 0.503906 18.457031 0.5 18.214844 0.632812\"/>\n",
              "</g>\n",
              "      </svg>\n",
              "    "
            ],
            "text/plain": [
              "<IPython.core.display.HTML object>"
            ]
          },
          "metadata": {}
        }
      ]
    }
  ]
}